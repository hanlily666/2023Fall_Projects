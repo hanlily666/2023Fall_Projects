{
 "cells": [
  {
   "cell_type": "markdown",
   "source": [
    "# Fall 2023 IS 597 Final Project\n",
    "## The Analysis of Tweets with #ChatGPT\n",
    "Name: Ruixin Han\n",
    "GitHub ID: hanlily666"
   ],
   "metadata": {
    "collapsed": false
   }
  },
  {
   "cell_type": "markdown",
   "source": [
    "### Background\n",
    "When ChatGPT launched, the information about the new technology went viral on social media. On Twitter, users can easily have first-hand updates on what the big companies have discussed and their next move in the current competitive environment. This analysis investigates the tweets that had #ChatGPT at the time during January 2023 and October 2023, and specifically looks into the content of the tweets and the external links within the tweets.\n",
    "\n",
    "I plan to use Twitter API and pull the most recent 1,500 tweet data (as I researched, Twitter limits the number of tweets for a free developer account per month) to further analyze the Twitter data that has the #ChatGPT based on the ChatGPT Tweets Analysis"
   ],
   "metadata": {
    "collapsed": false
   }
  },
  {
   "cell_type": "markdown",
   "source": [
    "### Hypotheses\n",
    "- There is an increasing number of AI companies that have used the GPT4, and Claude2 models, or developed new models.\n",
    "    - I would need to analyze the content in the tweet and extract words in the content to see if there are matching words such as “GPT4”, “Claude2” and “xx models”. The AI companies would also need to be confirmed by comparing the company names in the Forbes 2000 Global Companies or by looking for the “new AI company” in the tweet or an external linked web page if there is one.\n",
    "- Since January 2023, there has been a significant increase in user concerns and issues related to the ethical use of ChatGPT, indicating a growing need for enhanced governance and guidelines around its application. Tweets that express concern about the use of ChatGPT have more likes and retweet counts compared to both the average number of likes and retweets of all the tweets and also the by comparing to the data on October 2023.\n",
    "    - This would also require the analysis of both the content and web page content of external links in the tweet if there is one. The extracted words can be analyzed by defining the negative/doubtful words and keyword matching.\n",
    "- Tweets with links to external content that cite diverse sources (published papers, authorized websites) are more likely to receive likes and retweets than those that do not cite sources.\n",
    "    - By automating the external sites, look for and verify citation sources that are well-known and reliable. Then, compare the number of likes and retweets to other sites that do not have sources.\n",
    "- (new) The external links in tweets are more frequently directed towards the application of OpenAI API instead of ChatGPT.\n",
    "    - Need to take both the tweet content and the external links content into consideration and look for the usage of “openai api” and “chatgpt”\n"
   ],
   "metadata": {
    "collapsed": false
   }
  },
  {
   "cell_type": "markdown",
   "source": [
    "Datetime\tTweet Id\tText\tUsername\tPermalink\tUser\tOutlinks\tCountLinks\tReplyCount\tRetweetCount\tLikeCount\tQuoteCount\tConversationId\tLanguage\tSource\tMedia\tQuotedTweet\tMentionedUsers\thashtag\thastag_counts"
   ],
   "metadata": {
    "collapsed": false
   }
  },
  {
   "cell_type": "markdown",
   "source": [
    "### Hypothesis One\n",
    "- There is an increasing number of AI companies that have used the GPT4, and Claude2 models, or developed new models.\n",
    "    - I would need to analyze the content in the tweet and extract words in the content to see if there are matching words such as “GPT4”, “Claude2” and “xx models”. The AI companies would also need to be confirmed by comparing the company names in the Forbes 2000 Global Companies or by looking for the “new AI company” in the tweet or an external linked web page if there is one.\n",
    "    - Approach:\n",
    "        - Use regular expressions to search for mentions of \"GPT4\", \"Claude2\", and patterns like \"XX models\" in tweets. For company verification, maintain a hash set (for time efficiency) of company names from the Forbes 2000 list.\n",
    "        - Check if company names in tweets exist in this set.\n",
    "        - To avoid redundancy, cache the results of previously processed tweets and URLs."
   ],
   "metadata": {
    "collapsed": false
   }
  },
  {
   "cell_type": "code",
   "execution_count": 1,
   "outputs": [
    {
     "name": "stdout",
     "output_type": "stream",
     "text": [
      "Intel MKL WARNING: Support of Intel(R) Streaming SIMD Extensions 4.2 (Intel(R) SSE4.2) enabled only processors has been deprecated. Intel oneAPI Math Kernel Library 2025.0 will require Intel(R) Advanced Vector Extensions (Intel(R) AVX) instructions.\n",
      "Intel MKL WARNING: Support of Intel(R) Streaming SIMD Extensions 4.2 (Intel(R) SSE4.2) enabled only processors has been deprecated. Intel oneAPI Math Kernel Library 2025.0 will require Intel(R) Advanced Vector Extensions (Intel(R) AVX) instructions.\n"
     ]
    }
   ],
   "source": [
    "import csv\n",
    "import requests\n",
    "import lxml.html\n",
    "import re\n",
    "import pandas as pd\n",
    "from time import sleep\n",
    "import ast\n",
    "from bs4 import BeautifulSoup\n",
    "from googletrans import Translator"
   ],
   "metadata": {
    "collapsed": false,
    "ExecuteTime": {
     "start_time": "2023-11-16T21:38:50.188272Z",
     "end_time": "2023-11-16T21:38:51.590916Z"
    }
   }
  },
  {
   "cell_type": "markdown",
   "source": [
    "#### Count the valid outlinks\n",
    "Since the value of \"Outlinks\" is a string representation of the list, I need to convert it to an actual list. The code is referenced from here: https://www.geeksforgeeks.org/python-convert-a-string-representation-of-list-into-list/"
   ],
   "metadata": {
    "collapsed": false
   }
  },
  {
   "cell_type": "code",
   "execution_count": 2,
   "outputs": [],
   "source": [
    "def fetch_url_with_html_tree(url: str) -> lxml.etree:\n",
    "    \"\"\"\n",
    "\n",
    "    :param url:\n",
    "    :return:\n",
    "    \"\"\"\n",
    "    tree = None\n",
    "    request_count = 0\n",
    "    while tree is None:\n",
    "        try:\n",
    "            r = requests.get(url)\n",
    "            request_count += 1\n",
    "            print(type(r.text))\n",
    "            tree = lxml.html.fromstring(r.text)\n",
    "        except (ConnectionError, ConnectionRefusedError) as e:\n",
    "            print(f\"Error retrieving {url}. Skipping this URL.\")\n",
    "            return None\n",
    "    return tree"
   ],
   "metadata": {
    "collapsed": false,
    "ExecuteTime": {
     "start_time": "2023-11-16T21:38:51.593579Z",
     "end_time": "2023-11-16T21:38:51.595440Z"
    }
   }
  },
  {
   "cell_type": "markdown",
   "source": [
    "Plan for the next steps\n",
    "- Find the technique to extract the text from the web page\n",
    "- Find ways to analyze text"
   ],
   "metadata": {
    "collapsed": false
   }
  },
  {
   "cell_type": "code",
   "execution_count": 3,
   "outputs": [
    {
     "name": "stdout",
     "output_type": "stream",
     "text": [
      "['https://us02web.zoom.us/webinar/register/8016723032829/WN_w_ObSIzWSL2X2EEOThSbdw', 'https://twitter.com/DianaKnodel/status/1617153572654944259']\n",
      "<class 'str'>\n",
      "<class 'str'>\n"
     ]
    }
   ],
   "source": [
    "with open('chatgpt1.csv', mode ='r') as file:\n",
    "    csvFile = csv.DictReader(file)\n",
    "    for lines in csvFile:\n",
    "        outlinks = lines['Outlinks']\n",
    "        if outlinks:\n",
    "            print(outlinks)\n",
    "            outlinks_list = ast.literal_eval(outlinks)\n",
    "            for url in outlinks_list:\n",
    "                tree = fetch_url_with_html_tree(url)\n",
    "            break"
   ],
   "metadata": {
    "collapsed": false,
    "ExecuteTime": {
     "start_time": "2023-11-16T21:38:51.597442Z",
     "end_time": "2023-11-16T21:38:52.087801Z"
    }
   }
  },
  {
   "cell_type": "markdown",
   "source": [
    "For each row that has the match of \"xx models\", if there is a company name then look for the name in the"
   ],
   "metadata": {
    "collapsed": false
   }
  },
  {
   "cell_type": "code",
   "execution_count": 4,
   "outputs": [
    {
     "name": "stdout",
     "output_type": "stream",
     "text": [
      "Translated(src=ja, dest=en, text=I'm using Chatgpt for the first time, but it's amazing ... I'm doing it while checking if the information is correct, but this seems to be able to study programming., pronunciation=None, extra_data=\"{'confiden...\")\n"
     ]
    }
   ],
   "source": [
    "translator = Translator()\n",
    "translated_content = translator.translate('初めてChatGPT使ってるけどすごいな・・・ 一応情報が正しいか自分も調べながらやってるけど、これでプログラミングの勉強ができそうだ', dest='en')\n",
    "print(translated_content)"
   ],
   "metadata": {
    "collapsed": false,
    "ExecuteTime": {
     "start_time": "2023-11-16T21:38:52.090307Z",
     "end_time": "2023-11-16T21:38:52.576831Z"
    }
   }
  },
  {
   "cell_type": "code",
   "execution_count": 5,
   "outputs": [
    {
     "name": "stdout",
     "output_type": "stream",
     "text": [
      "/Users/hanruixin/opt/anaconda3/envs/is597/lib/python3.11/site-packages/googletrans/__init__.py\n",
      "4.0.0-rc.1\n"
     ]
    }
   ],
   "source": [
    "import googletrans\n",
    "print(googletrans.__file__)\n",
    "print(googletrans.__version__)"
   ],
   "metadata": {
    "collapsed": false,
    "ExecuteTime": {
     "start_time": "2023-11-16T21:38:52.578735Z",
     "end_time": "2023-11-16T21:38:52.581519Z"
    }
   }
  },
  {
   "cell_type": "code",
   "execution_count": 5,
   "outputs": [],
   "source": [],
   "metadata": {
    "collapsed": false,
    "ExecuteTime": {
     "start_time": "2023-11-16T21:38:52.581948Z",
     "end_time": "2023-11-16T21:38:52.583686Z"
    }
   }
  }
 ],
 "metadata": {
  "kernelspec": {
   "display_name": "Python 3",
   "language": "python",
   "name": "python3"
  },
  "language_info": {
   "codemirror_mode": {
    "name": "ipython",
    "version": 2
   },
   "file_extension": ".py",
   "mimetype": "text/x-python",
   "name": "python",
   "nbconvert_exporter": "python",
   "pygments_lexer": "ipython2",
   "version": "2.7.6"
  }
 },
 "nbformat": 4,
 "nbformat_minor": 0
}
